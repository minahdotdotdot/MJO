{
 "cells": [
  {
   "cell_type": "code",
   "execution_count": 2,
   "metadata": {
    "ExecuteTime": {
     "end_time": "2018-05-08T10:54:48.083000-06:00",
     "start_time": "2018-05-08T16:54:40.847Z"
    }
   },
   "outputs": [
    {
     "name": "stdout",
     "output_type": "stream",
     "text": [
      "                          Base               Module\n",
      "                        Compat  19454 KB     Module\n",
      "                          Core               Module\n",
      "                        IJulia  19553 KB     Module\n",
      "                          JSON  19380 KB     Module\n",
      "                     MJO_State    184 bytes  DataType\n",
      "                    MJO_params    400 bytes  DataType\n",
      "                          Main               Module\n",
      "                       MbedTLS  19407 KB     Module\n",
      "                     Nullables   1120 bytes  Module\n",
      "                             P      0 bytes  #P\n",
      "                          P_RC      0 bytes  #P_RC\n",
      "                           ZMQ  19356 KB     Module\n",
      "                      div_flux      0 bytes  #div_flux\n",
      "                          dxdt      0 bytes  #dxdt\n",
      "                        grid_x      8 bytes  Int64\n",
      "                        grid_y      8 bytes  Int64\n",
      "                         h_sum      0 bytes  #h_sum\n",
      "                       h_sum_a      0 bytes  #h_sum_a\n",
      "                        params     14 KB     MJO_params\n",
      "               set_ghost_cells      0 bytes  #set_ghost_cells\n"
     ]
    }
   ],
   "source": [
    "#The following jl file initializes all parameters. \n",
    "include(\"mjo_a.jl\")\n",
    "whos()"
   ]
  },
  {
   "cell_type": "markdown",
   "metadata": {
    "ExecuteTime": {
     "end_time": "2018-05-08T09:21:09.758000-06:00",
     "start_time": "2018-05-08T15:21:03.098Z"
    }
   },
   "source": [
    "1) Momenta are zero and heights are constant and Q is linear in y with values ranging from 0 to 1.1*Qs."
   ]
  },
  {
   "cell_type": "code",
   "execution_count": 37,
   "metadata": {
    "ExecuteTime": {
     "end_time": "2018-05-08T12:13:12.010000-06:00",
     "start_time": "2018-05-08T18:13:11.518Z"
    }
   },
   "outputs": [
    {
     "data": {
      "text/plain": [
       "9.094947017729282e-13"
      ]
     },
     "execution_count": 37,
     "metadata": {},
     "output_type": "execute_result"
    }
   ],
   "source": [
    "state = MJO_State(\n",
    "          zeros(grid_y, grid_x),                                       # m1\n",
    "          zeros(grid_y, grid_x),                                       # n1\n",
    "          zeros(grid_y, grid_x),                                       # m2\n",
    "          zeros(grid_y, grid_x),                                       # n2\n",
    "          ones(grid_y, grid_x),                                        # h1\n",
    "          ones(grid_y, grid_x),                                        # h2\n",
    "          repmat(linspace(10.^(-16.),1.1*params.Qs,grid_y), 1, grid_x) # q\n",
    "    );  \n",
    "\n",
    "out = deepcopy(state)\n",
    "dxdt(params, state, out);\n",
    "q_check = (-1. + params.Qs./(params.DD*state.q)).*(8.*params.LL)/(params.QQ*86400000.*params.UU).*(exp.(params.B*state.q/params.Qs)-1.);\n",
    "maximum(out.q[2:grid_y-1,:]-q_check[2:grid_y-1,:])"
   ]
  },
  {
   "cell_type": "markdown",
   "metadata": {
    "ExecuteTime": {
     "end_time": "2018-05-08T11:58:48.089000-06:00",
     "start_time": "2018-05-08T17:58:48.039Z"
    }
   },
   "source": [
    "2) If heights are constant, Q=0, m is linear in y and n is linear in x then tendencies for h1, h2, and Q should be 0. Also the only tendency for momentum should be the Coriolis force (which wasn't working this afternoon)."
   ]
  },
  {
   "cell_type": "code",
   "execution_count": 39,
   "metadata": {
    "ExecuteTime": {
     "end_time": "2018-05-08T12:15:18.219000-06:00",
     "start_time": "2018-05-08T18:15:17.743Z"
    }
   },
   "outputs": [
    {
     "data": {
      "text/plain": [
       "(3.289549702593056e-16, 3.289549702593056e-16, 0.0)"
      ]
     },
     "execution_count": 39,
     "metadata": {},
     "output_type": "execute_result"
    }
   ],
   "source": [
    "state = MJO_State(\n",
    "          repmat(linspace(1,2, grid_y), 1, grid_x), # m1\n",
    "          repmat(linspace(3,4, grid_x)', grid_y,1), # n1\n",
    "          repmat(linspace(1,2,grid_y), 1, grid_x),  # m2\n",
    "          repmat(linspace(3,4, grid_x)',grid_y, 1), # n2\n",
    "          ones(grid_y, grid_x),                     # h1\n",
    "          ones(grid_y, grid_x),                     # h2\n",
    "          10.^(-16.)*ones(grid_y, grid_x)           # q\n",
    "    );                                          \n",
    "out = deepcopy(state)\n",
    "dxdt(params, state, out);\n",
    "q_check = (-1. + params.Qs./(params.DD*state.q)).*(8.*params.LL)/(params.QQ*86400000.*params.UU).*(exp.(params.B*state.q/params.Qs)-1.);\n",
    "norm(out.q[2:end-1,:]-q_check[2:end-1,:]);\n",
    "maximum(abs.(out.h1[2:grid_y-1,:])), maximum(abs.(out.h2[2:grid_y-1,:])), maximum(abs.(q_check[2:grid_y-1,:]-out.q[2:grid_y-1,:]))"
   ]
  },
  {
   "cell_type": "markdown",
   "metadata": {
    "ExecuteTime": {
     "end_time": "2018-05-08T12:03:14.175000-06:00",
     "start_time": "2018-05-08T18:03:14.165Z"
    }
   },
   "source": [
    "3) Let the heights be constant and Q=0. If the x-momentum (in one layer) is sin(2*pi*x/LX) then the time-tendencies for h should be proportional to cos(2*pi*x/LX). "
   ]
  },
  {
   "cell_type": "code",
   "execution_count": 148,
   "metadata": {
    "ExecuteTime": {
     "end_time": "2018-05-08T15:18:04.655000-06:00",
     "start_time": "2018-05-08T21:18:04.459Z"
    }
   },
   "outputs": [
    {
     "name": "stdout",
     "output_type": "stream",
     "text": [
      "0.0\n",
      "-0.0\n"
     ]
    },
    {
     "data": {
      "text/plain": [
       "(Any[361, 1081], [0.250694, 0.750694])"
      ]
     },
     "execution_count": 148,
     "metadata": {},
     "output_type": "execute_result"
    }
   ],
   "source": [
    "x = linspace(0, params.lon[end]*pi/180, grid_x)\n",
    "# m1 will be sin(x/T) where the period T is given by the nondimensionalized length of the zonal domain.\n",
    "# T = 2*pi* RE/ LL\n",
    "# i.e. T = RE/ LL, since x ranges from 0 to 2*pi-delt_x. \n",
    "state = MJO_State(\n",
    "          repmat(sin.(x)', grid_y,1),                        # m1\n",
    "          zeros(grid_y, grid_x),                             # n1\n",
    "          zeros(grid_y, grid_x),                             # m2\n",
    "          zeros(grid_y, grid_x),                             # n2\n",
    "          ones(grid_y, grid_x),                              # h1\n",
    "          ones(grid_y, grid_x),                              # h2\n",
    "          zeros(grid_y, grid_x)                              # q\n",
    "    );                                          \n",
    "out = deepcopy(state)\n",
    "dxdt(params, state, out);\n",
    "T = params.LL/params.RE;\n",
    "ind = []\n",
    "for i = 1 : grid_x\n",
    "    if 1-abs(out.h1[2,i]/(-T*cos(x[i]))) > 0.00001\n",
    "        push!(ind,i)\n",
    "        println(out.h1[2,i]/(-T*cos(x[i])))\n",
    "    end\n",
    "end\n",
    "ind, ind/grid_x"
   ]
  },
  {
   "cell_type": "markdown",
   "metadata": {
    "ExecuteTime": {
     "end_time": "2018-05-08T15:09:57.071000-06:00",
     "start_time": "2018-05-08T21:09:57.060Z"
    }
   },
   "source": [
    "4) Let the heights be constant and Q=0. Let m=0 in both layers and set n = sin(piy/(2LY)). Then the time-tendency for h and Q should be proportional to cos(piy/(2LY))."
   ]
  },
  {
   "cell_type": "code",
   "execution_count": 152,
   "metadata": {
    "ExecuteTime": {
     "end_time": "2018-05-08T15:25:26.016000-06:00",
     "start_time": "2018-05-08T21:25:25.762Z"
    }
   },
   "outputs": [
    {
     "data": {
      "text/plain": [
       "164×1440 Array{Float64,2}:\n",
       "  1.0         1.0         1.0        …   1.0         1.0         1.0      \n",
       " -0.0138642  -0.0138642  -0.0138642     -0.0138642  -0.0138642  -0.0138642\n",
       " -0.0415713  -0.0415713  -0.0415713     -0.0415713  -0.0415713  -0.0415713\n",
       " -0.0692142  -0.0692142  -0.0692142     -0.0692142  -0.0692142  -0.0692142\n",
       " -0.0967504  -0.0967504  -0.0967504     -0.0967504  -0.0967504  -0.0967504\n",
       " -0.124137   -0.124137   -0.124137   …  -0.124137   -0.124137   -0.124137 \n",
       " -0.151333   -0.151333   -0.151333      -0.151333   -0.151333   -0.151333 \n",
       " -0.178295   -0.178295   -0.178295      -0.178295   -0.178295   -0.178295 \n",
       " -0.204983   -0.204983   -0.204983      -0.204983   -0.204983   -0.204983 \n",
       " -0.231354   -0.231354   -0.231354      -0.231354   -0.231354   -0.231354 \n",
       " -0.257369   -0.257369   -0.257369   …  -0.257369   -0.257369   -0.257369 \n",
       " -0.282986   -0.282986   -0.282986      -0.282986   -0.282986   -0.282986 \n",
       " -0.308168   -0.308168   -0.308168      -0.308168   -0.308168   -0.308168 \n",
       "  ⋮                                  ⋱                                    \n",
       "  0.231354    0.231354    0.231354       0.231354    0.231354    0.231354 \n",
       "  0.204983    0.204983    0.204983       0.204983    0.204983    0.204983 \n",
       "  0.178295    0.178295    0.178295       0.178295    0.178295    0.178295 \n",
       "  0.151333    0.151333    0.151333   …   0.151333    0.151333    0.151333 \n",
       "  0.124137    0.124137    0.124137       0.124137    0.124137    0.124137 \n",
       "  0.0967504   0.0967504   0.0967504      0.0967504   0.0967504   0.0967504\n",
       "  0.0692142   0.0692142   0.0692142      0.0692142   0.0692142   0.0692142\n",
       "  0.0415713   0.0415713   0.0415713      0.0415713   0.0415713   0.0415713\n",
       "  0.0138642   0.0138642   0.0138642  …   0.0138642   0.0138642   0.0138642\n",
       "  1.0         1.0         1.0            1.0         1.0         1.0      \n",
       "  1.0         1.0         1.0            1.0         1.0         1.0      \n",
       "  1.0         1.0         1.0            1.0         1.0         1.0      "
      ]
     },
     "execution_count": 152,
     "metadata": {},
     "output_type": "execute_result"
    }
   ],
   "source": [
    "y = linspace(0, 1, grid_y)\n",
    "# m1 will be sin(x/T) where the period T is given by the nondimensionalized length of the meridional domain. \n",
    "# T = (20.125-(-20.125))*pi/180 * RE/LL\n",
    "# i.e. T = (20.125-(-20.125))*pi/180 * RE/LL, since x ranges from 0 to 1. \n",
    "state = MJO_State(\n",
    "          zeros(grid_y+2, grid_x),                                         # m1\n",
    "          repmat(sin.(y), 1,grid_x),                                       # n1\n",
    "          zeros(grid_y+2, grid_x),                                         # m2\n",
    "          zeros(grid_y+2, grid_x),                                         # n2\n",
    "          ones(grid_y+2, grid_x),                                          # h1\n",
    "          ones(grid_y+2, grid_x),                                          # h2\n",
    "          zeros(grid_y+2, grid_x)                                          # q\n",
    "    );                                          \n",
    "out = deepcopy(state);\n",
    "dxdt(params, state, out);\n",
    "T = (20.125-(-20.125))*pi/180 * params.RE/params.LL;\n",
    "out.h1"
   ]
  },
  {
   "cell_type": "code",
   "execution_count": 150,
   "metadata": {
    "ExecuteTime": {
     "end_time": "2018-05-08T15:19:06.156000-06:00",
     "start_time": "2018-05-08T21:19:06.150Z"
    }
   },
   "outputs": [
    {
     "data": {
      "text/plain": [
       "162-element Array{Float64,1}:\n",
       " -20.125\n",
       " -19.875\n",
       " -19.625\n",
       " -19.375\n",
       " -19.125\n",
       " -18.875\n",
       " -18.625\n",
       " -18.375\n",
       " -18.125\n",
       " -17.875\n",
       " -17.625\n",
       " -17.375\n",
       " -17.125\n",
       "   ⋮    \n",
       "  17.375\n",
       "  17.625\n",
       "  17.875\n",
       "  18.125\n",
       "  18.375\n",
       "  18.625\n",
       "  18.875\n",
       "  19.125\n",
       "  19.375\n",
       "  19.625\n",
       "  19.875\n",
       "  20.125"
      ]
     },
     "execution_count": 150,
     "metadata": {},
     "output_type": "execute_result"
    }
   ],
   "source": [
    "params.lat"
   ]
  },
  {
   "cell_type": "code",
   "execution_count": 112,
   "metadata": {
    "ExecuteTime": {
     "end_time": "2018-05-08T14:52:59.873000-06:00",
     "start_time": "2018-05-08T20:52:59.439Z"
    }
   },
   "outputs": [
    {
     "data": {
      "text/plain": [
       "1440"
      ]
     },
     "execution_count": 112,
     "metadata": {},
     "output_type": "execute_result"
    }
   ],
   "source": [
    "length(x)"
   ]
  },
  {
   "cell_type": "code",
   "execution_count": null,
   "metadata": {},
   "outputs": [],
   "source": []
  }
 ],
 "metadata": {
  "kernelspec": {
   "display_name": "Julia 0.6.2",
   "language": "julia",
   "name": "julia-0.6"
  },
  "language_info": {
   "file_extension": ".jl",
   "mimetype": "application/julia",
   "name": "julia",
   "version": "0.6.2"
  }
 },
 "nbformat": 4,
 "nbformat_minor": 2
}
