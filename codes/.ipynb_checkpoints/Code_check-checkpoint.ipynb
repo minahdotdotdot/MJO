{
 "cells": [
  {
   "cell_type": "code",
   "execution_count": 11,
   "metadata": {},
   "outputs": [],
   "source": [
    "IJulia.load(\"mjo_a.jl\")"
   ]
  },
  {
   "cell_type": "code",
   "execution_count": 152,
   "metadata": {
    "ExecuteTime": {
     "end_time": "2018-05-01T12:45:01.786000-06:00",
     "start_time": "2018-05-01T18:45:01.706Z"
    }
   },
   "outputs": [
    {
     "data": {
      "text/plain": [
       "MJO_params(1.0e6, 5000.0, 5.0, 0.05, 1.3824e6, 345600.0, 9.80665, 6.371e6, 1.0184, 750.0, 1.1, 1.16, 11.4, 4.5658171192233805, 1961.33, 0.0075, 0.14467592592592593)"
      ]
     },
     "execution_count": 152,
     "metadata": {},
     "output_type": "execute_result"
    }
   ],
   "source": [
    "# MJO Simulation\n",
    "# Author: Minah Yang <lucia.yang@colorado.edu>\n",
    "# Copyright 2018. Not for public distribution.\n",
    "\n",
    "struct MJO_params\n",
    "    LL      :: Float64 #\\hat{L}     ~ 10^6              (m)\n",
    "    HH      :: Float64 #H           ~ 5000              (m)\n",
    "    UU      :: Float64 #U           ~ 5                 (m/s)\n",
    "    QQ      :: Float64 #\\hat{Q}     ~ 0.05              (m)\n",
    "    T_RC    :: Float64 #T_{RC}      ~ 16 days = 1382400 (s)\n",
    "    T_Q     :: Float64 #\\tau_q      ~    96 hours = 345600 (s)\n",
    "\n",
    "    g       :: Float64 # gravity on earth : 9.80665     (m/s^2)\n",
    "    RE      :: Float64 # radius of earth  : 6,371,000   (m)\n",
    "\n",
    "    AA      :: Float64 # \\alpha \\approx 1.0183548918336027\n",
    "    BB      :: Float64 # \\beta \\approx 750.\n",
    "    DD      :: Float64 # CM \\delta \\approx 1.1\n",
    "    Qs      :: Float64 # moisture saturation 56.2 to 70. is reasonable dimensional input nondimensional output\n",
    "    B       :: Float64 # CM \"b\" \\approx 11.4\n",
    "\n",
    "    Ro      :: Float64 # \\frac{1}{Ro*y} = 4*pi*L^2/(U*day in seconds * RE)\n",
    "    Fr      :: Float64 # 1/Fr^2 = gH/U^2\n",
    "    BQH     :: Float64 #\\frac{\\hat{Q}}{H}\n",
    "    Tratio  :: Float64 # :L / (U*T_RC)\n",
    "\n",
    "    MJO_params(LL, HH, UU, QQ, T_RC, T_Q,g, RE, AA, BB, DD, Qs, B) =\n",
    "    new(copy(LL), copy(HH), copy(UU), copy(QQ), copy(T_RC), copy(T_Q),\n",
    "        copy(g), copy(RE),\n",
    "        copy(AA), copy(BB), copy(DD), copy(Qs)/QQ, copy(B),\n",
    "        4.*pi*LL^2/(3600.*24.*UU*RE), g*HH/UU^2, BB*QQ/HH, LL/(UU*T_RC))\n",
    "end\n",
    "\n",
    "struct MJO_State\n",
    "    delt_x :: Float64 #1/delt_x (to eliminate divisions)\n",
    "    delt_y :: Float64 #1/delt_y (to eliminate divisions)\n",
    "    #TODO: we shouldn't use two copies of static things like the lat/long.\n",
    "    lon    :: Array{Float64, 1}\n",
    "    lat    :: Array{Float64, 1}\n",
    "\n",
    "    y      :: Array{Float64, 1}\n",
    "\n",
    "    m1     :: Array{Float64, 2}\n",
    "    n1     :: Array{Float64, 2}\n",
    "    m2     :: Array{Float64, 2}\n",
    "    n2     :: Array{Float64, 2}\n",
    "    h1     :: Array{Float64, 2}\n",
    "    h2     :: Array{Float64, 2}\n",
    "    q      :: Array{Float64, 2}\n",
    "\n",
    "    MJO_State(delt_x, delt_y, lon, lat, y, m1, n1, m2, n2, h1, h2, q) =\n",
    "    new(copy(delt_x), copy(delt_y), copy(lon), copy(lat), copy(y),\n",
    "        copy(m1), copy(n1), copy(m2), copy(n2), copy(h1), copy(h2), copy(q))\n",
    "end\n",
    "\n",
    "##Craig and Mack Precipitation\n",
    "#TODO(minah): add boolean/string to choose between {C&M ,Betts-Miller}?\n",
    "#    Gregor: this would add undue overhead.\n",
    "#            Instead, define a different function for B&M and pass the function as a parameter.\n",
    "@inline function P{T<:Real}(\n",
    "        LL::T, UU::T, QQ::T, B::T, Qs::T, q::T, T_Q::T)\n",
    "    \n",
    "    return 0#(8.*LL)/(QQ*86400000.*UU)*(exp(B*q/Qs)-1.)\n",
    "end\n",
    "\n",
    "## Precipitation and Radiative Cooling together (RC never appears on its own.)\n",
    "@inline function P_RC{T<:Real}(\n",
    "        LL::T, UU::T, QQ::T, B::T, Qs::T, q::T, T_Q::T, BQH::T, Tratio::T, hh2::T, hh1::T)\n",
    "    value = P(LL, UU, QQ, B, Qs, q, T_Q)\n",
    "    if (hh2 - hh1) > T(0)\n",
    "        value = value - Tratio * (hh2-hh1)\n",
    "    end\n",
    "    return value\n",
    "end\n",
    "\n",
    "@inline function div_flux{T<:Real}(\n",
    "        m::Array{T, 2}, n::Array{T, 2}, h::Array{T, 2}, q::Array{T, 2}, ii::Int64, jj::Int64,\n",
    "        delt_x::T, delt_y::T)\n",
    "    #Account for zonal periodicity.\n",
    "    iii = ii  #TODO(minah): annotate what this index is.\n",
    "    iiii = ii  #TODO(minah): annotate what this index is.\n",
    "    #TODO: is it possible to eliminate these branching points in this inner loop?\n",
    "    if ii == 1\n",
    "        iii = 1441 # to satisfy iii-1 = 1440\n",
    "    elseif ii == 1440\n",
    "        iiii = 0 #to satisfy iiii+1 = 1\n",
    "    end\n",
    "\n",
    "    #TODO: eliminate redundant division by delt\n",
    "    return (\n",
    "        .25*delt_x*(\n",
    "            +(m[jj,ii]/h[jj,ii] + m[jj,iiii+1]/h[jj,iiii+1])*(q[jj,ii]+q[jj,iiii+1])\n",
    "            - (m[jj,iii-1]/h[jj,iii-1] + m[jj,ii]/h[jj,ii])*(q[jj,iii-1]+q[jj,ii])\n",
    "            ) + \n",
    "        .25*delt_y*(\n",
    "            +(n[jj,ii]/h[jj,ii] + n[jj+1,ii]/h[jj+1,ii])*(q[jj,ii]+q[jj+1,ii])\n",
    "            -(n[jj-1,ii]/h[jj-1,ii] + n[jj,ii]/h[jj,ii])*(q[jj-1,ii]+q[jj,ii])\n",
    "            )\n",
    "        )\n",
    "end\n",
    "\n",
    "@inline function h_sum(h1, h2, jj, ii)\n",
    "    return h1[jj,ii] + h2[jj,ii]\n",
    "end\n",
    "\n",
    "@inline function h_sum_a(h1, h2, a, jj, ii)\n",
    "    return h1[jj,ii] + a*h2[jj,ii]\n",
    "end\n",
    "\n",
    "@inline function set_ghost_cells(state, ii)\n",
    "    state.h1[1,ii]   = 2.0*state.h1[2,ii] - state.h1[3,ii]\n",
    "    state.h2[1,ii]   = 2.0*state.h2[2,ii] - state.h2[3,ii]\n",
    "    state.h1[end,ii] = 2.0*state.h1[end-1,ii] - state.h2[end-2,ii]\n",
    "    state.h2[end,ii] = 2.0*state.h2[end-1,ii] - state.h2[end-2,ii]\n",
    "\n",
    "    state.n1[1,ii]   = state.h1[1,ii] / state.h1[2,ii] * state.n1[2,ii]\n",
    "    state.n2[1,ii]   = state.h2[1,ii] / state.h2[2,ii] * state.n2[2,ii]\n",
    "    state.n1[end,ii] = state.h1[end,ii] / state.h1[end-1,ii] * state.n1[end-1,ii]\n",
    "    state.n2[end,ii] = state.h2[end,ii] / state.h2[end-1,ii] * state.n2[end-1,ii]\n",
    "end\n",
    "\n",
    "# Compute tendency of the system.\n",
    "# Params:\n",
    "#     - params: system parameters.\n",
    "#     - state: system state for whole spatially-extended system.\n",
    "#     - out: tendency of system is written here.\n",
    "function dxdt(params::MJO_params, state::MJO_State, out::MJO_State)\n",
    "    delt_x  =  state.delt_x         :: Float64\n",
    "    delt_y  =  state.delt_y         :: Float64\n",
    "    LL      =  params.LL            :: Float64\n",
    "    UU      =  params.UU            :: Float64\n",
    "    QQ      =  params.QQ            :: Float64\n",
    "    B       =  params.B             :: Float64\n",
    "    Qs      =  params.Qs            :: Float64\n",
    "    BQH     =  params.BQH           :: Float64\n",
    "    Tratio  =  params.Tratio        :: Float64\n",
    "    AA      =  params.AA            :: Float64\n",
    "    DD      =  params.DD            :: Float64\n",
    "    T_Q     =  params.T_Q           :: Float64\n",
    "\n",
    "    # Ghost cells\n",
    "\n",
    "    # Iterate over longitudinal direction.\n",
    "    for ii = 1 : length(state.lon)\n",
    "        iii = ii  #Use for ii-1  #TODO(minah): annotate this index.\n",
    "        iiii = ii #Use for ii+1  #TODO(minah): annotate this index.\n",
    "\n",
    "        #Periodic boundary conditions in lon: lon[1] = 0 = 360, lon[end] = long[1440] = 359.75\n",
    "        if ii == 1\n",
    "            iii = 1441 # to satisfy iii-1 = 1440\n",
    "        elseif ii == 1440\n",
    "            iiii = 0 #to satisfy iiii+1 = 1\n",
    "        else\n",
    "            set_ghost_cells(state, ii+1)\n",
    "        end\n",
    "\n",
    "        # Ghost cells\n",
    "        set_ghost_cells(state,ii)\n",
    "\n",
    "        #println(\"column: \",ii)\n",
    "\n",
    "        # Iterate over latitudinal direction.\n",
    "        for jj = 2:length(state.y)-1\n",
    "            #println(\"row:\",jj)\n",
    "            value_P_RC = P_RC(LL, UU, QQ, B, Qs, state.q[jj,ii], T_Q, BQH, Tratio, state.h2[jj,ii], state.h1[jj,ii])\n",
    "\n",
    "            ### MOMENTUM\n",
    "\n",
    "            out.m1[jj,ii] = (\n",
    "                + div_flux(state.m1, state.n1, state.h1, state.m1, ii, jj, delt_x, delt_y)\n",
    "                + params.Ro*state.y[jj]*state.n1[jj,ii]                             #=1/Ro*n1=#\n",
    "                - params.Fr*(\n",
    "                    state.h1[jj,ii] * .5*delt_x*(h_sum(state.h1,state.h2,jj,iiii+1)-h_sum(state.h1,state.h2,jj,iii-1))\n",
    "                    )                                                               #=h_1∂x(h_1+h_2)=#\n",
    "                - state.m1[jj,ii]/state.h1[jj,ii]*value_P_RC\n",
    "                )\n",
    "            #println(\"m1 done.\")\n",
    "\n",
    "            out.n1[jj,ii] = (\n",
    "                + div_flux(state.m1, state.n1, state.h1, state.n1, ii, jj, delt_x, delt_y)\n",
    "                - params.Ro*state.y[jj]*state.m1[jj,ii]                             #=-1/Ro*m1=#\n",
    "                - params.Fr*(\n",
    "                    state.h1[jj,ii] * .5*delt_y*(h_sum(state.h1,state.h2,jj+1,ii)-h_sum(state.h1,state.h2,jj-1,ii))\n",
    "                    )                                                               #=h_1∂y(h_1+h_2)=#\n",
    "                - state.n1[jj,ii]/state.h1[jj,ii]*value_P_RC\n",
    "                )\n",
    "            #println(\"n1 done.\")\n",
    "\n",
    "            out.m2[jj,ii] = (\n",
    "                + div_flux(state.m2, state.n2, state.h2, state.m2, ii, jj, delt_x, delt_y)\n",
    "                + params.Ro*state.y[jj]*state.n2[jj,ii]                             #=1/Ro*n2=#\n",
    "                - params.Fr*(\n",
    "                    state.h1[jj,ii] * .5*delt_x*(h_sum_a(state.h1,state.h2,AA,jj,iiii+1) - h_sum_a(state.h1,state.h2,AA,jj,iii-1))\n",
    "                    )                                                               #=h_1∂x(h_1+\\alpha* h_2)=#\n",
    "                + state.m1[jj,ii]/state.h1[jj,ii]*value_P_RC\n",
    "                )\n",
    "            #println(\"m2 done.\")\n",
    "\n",
    "\n",
    "            out.n2[jj,ii] = (\n",
    "                + div_flux(state.m2, state.n2, state.h2, state.n2, ii, jj, delt_x, delt_y)\n",
    "                - params.Ro*state.y[jj]*state.m2[jj,ii]                             #=-1/Ro*m2=#\n",
    "                - params.Fr*(\n",
    "                    state.h1[jj,ii] * .5*delt_y*(h_sum_a(state.h1,state.h2,AA,jj+1,ii)-h_sum_a(state.h1,state.h2,AA,jj-1,ii))\n",
    "                    )                                                               #=h_1∂y(h_1+\\alpha*h_2)=#\n",
    "                + state.n1[jj,ii]/state.h1[jj,ii]*value_P_RC\n",
    "                )\n",
    "            #println(\"n2 done.\")\n",
    "\n",
    "            ### MASS\n",
    "\n",
    "            out.h1[jj,ii] = (\n",
    "                -.5*delt_x * (state.m1[jj,iiii+1] - state.m1[jj,iii-1])             #=∂x m_1=#\n",
    "                -.5*delt_y * (state.n1[jj+1,ii] - state.n1[jj-1,ii])                #=∂y n_1=#\n",
    "                - value_P_RC\n",
    "                )\n",
    "            #println(\"h1 done.\")\n",
    "\n",
    "            out.h2[jj,ii] = (\n",
    "                -.5*delt_x * (state.m2[jj,iiii+1] - state.m2[jj,iii-1])             #=∂x m_2=#\n",
    "                -.5*delt_y * (state.n2[jj+1,ii] - state.n2[jj-1,ii])                #=∂y n_2=#\n",
    "                + value_P_RC\n",
    "                )\n",
    "            #println(\"h2 done.\")\n",
    "\n",
    "            ### MOISTURE\n",
    "            out.q[jj,ii] = (\n",
    "                + div_flux(state.m1, state.n1, state.h1, state.q, ii, jj, delt_x, delt_y)\n",
    "                +(-1.+Qs./(DD*state.q[jj,ii]))*P(LL,UU,QQ,B,Qs,state.q[jj,ii], T_Q) #=\\hat{P}(Q)=#\n",
    "                )\n",
    "            #println(\"q done.\")\n",
    "        end\n",
    "    end\n",
    "    return out\n",
    "end\n",
    "\n",
    "####################################################################################################\n",
    "\n",
    "grid_y = 160 #Number of Rows (latitude) (jj)\n",
    "grid_x = 1440 #Number of columns (longitude) (ii)\n",
    "\n",
    "params = MJO_params(10.^6,    #LL\n",
    "                    5000.,    #HH\n",
    "                    5.,       #UU\n",
    "                    0.05,     #QQ\n",
    "                    1382400., #T_RC\n",
    "                    345600,   #T_Q\n",
    "                    9.80665,  # g\n",
    "                    6371000,  #RE\n",
    "                    1.0184,   #AA\n",
    "                    750.,     #BB\n",
    "                    1.1,      #DD\n",
    "                    .058,     #Qs\n",
    "                    11.4      #B\n",
    ")"
   ]
  },
  {
   "cell_type": "code",
   "execution_count": 114,
   "metadata": {
    "ExecuteTime": {
     "end_time": "2018-05-01T12:15:04.849000-06:00",
     "start_time": "2018-05-01T18:15:03.916Z"
    }
   },
   "outputs": [
    {
     "data": {
      "text/plain": [
       "162×1440 Array{Float64,2}:\n",
       " 1.0e-16  1.0e-16  1.0e-16  1.0e-16  …  1.0e-16  1.0e-16  1.0e-16  1.0e-16\n",
       " 0.0      0.0      0.0      0.0         0.0      0.0      0.0      0.0    \n",
       " 0.0      0.0      0.0      0.0         0.0      0.0      0.0      0.0    \n",
       " 0.0      0.0      0.0      0.0         0.0      0.0      0.0      0.0    \n",
       " 0.0      0.0      0.0      0.0         0.0      0.0      0.0      0.0    \n",
       " 0.0      0.0      0.0      0.0      …  0.0      0.0      0.0      0.0    \n",
       " 0.0      0.0      0.0      0.0         0.0      0.0      0.0      0.0    \n",
       " 0.0      0.0      0.0      0.0         0.0      0.0      0.0      0.0    \n",
       " 0.0      0.0      0.0      0.0         0.0      0.0      0.0      0.0    \n",
       " 0.0      0.0      0.0      0.0         0.0      0.0      0.0      0.0    \n",
       " 0.0      0.0      0.0      0.0      …  0.0      0.0      0.0      0.0    \n",
       " 0.0      0.0      0.0      0.0         0.0      0.0      0.0      0.0    \n",
       " 0.0      0.0      0.0      0.0         0.0      0.0      0.0      0.0    \n",
       " ⋮                                   ⋱                                    \n",
       " 0.0      0.0      0.0      0.0      …  0.0      0.0      0.0      0.0    \n",
       " 0.0      0.0      0.0      0.0         0.0      0.0      0.0      0.0    \n",
       " 0.0      0.0      0.0      0.0         0.0      0.0      0.0      0.0    \n",
       " 0.0      0.0      0.0      0.0         0.0      0.0      0.0      0.0    \n",
       " 0.0      0.0      0.0      0.0         0.0      0.0      0.0      0.0    \n",
       " 0.0      0.0      0.0      0.0      …  0.0      0.0      0.0      0.0    \n",
       " 0.0      0.0      0.0      0.0         0.0      0.0      0.0      0.0    \n",
       " 0.0      0.0      0.0      0.0         0.0      0.0      0.0      0.0    \n",
       " 0.0      0.0      0.0      0.0         0.0      0.0      0.0      0.0    \n",
       " 0.0      0.0      0.0      0.0         0.0      0.0      0.0      0.0    \n",
       " 0.0      0.0      0.0      0.0      …  0.0      0.0      0.0      0.0    \n",
       " 1.0e-16  1.0e-16  1.0e-16  1.0e-16     1.0e-16  1.0e-16  1.0e-16  1.0e-16"
      ]
     },
     "execution_count": 114,
     "metadata": {},
     "output_type": "execute_result"
    }
   ],
   "source": [
    "state = MJO_State((180*params.LL)/(.25*pi*params.RE),                        # delt_x\n",
    "          (180*params.LL)/(.25*pi*params.RE),                                # delt_y\n",
    "          linspace(0., 360.-.25, grid_x),                                    # lon\n",
    "          linspace(-20.125, 20.125, grid_y+2),                               # lat\n",
    "          pi/180*params.RE * linspace(-20.125, 20.125, grid_y+2)/params.LL,  # y\n",
    "          zeros(grid_y+2, grid_x),                                           # m1\n",
    "          zeros(grid_y+2, grid_x),                                           # n1\n",
    "          zeros(grid_y+2, grid_x),                                           # m2\n",
    "          zeros(grid_y+2, grid_x),                                           # n2\n",
    "          ones(grid_y+2, grid_x),                                            # h1\n",
    "          ones(grid_y+2, grid_x),                                            # h2\n",
    "          10.^(-16.)*ones(grid_y+2, grid_x)/params.QQ                        # q\n",
    "    );                                          \n",
    "out = deepcopy(state)\n",
    "\n",
    "dxdt(params, state, out);\n",
    "out.q"
   ]
  },
  {
   "cell_type": "markdown",
   "metadata": {},
   "source": [
    "1) If momenta are zero and heights are constant and Q is linear in y with values ranging from 0 to 1.1*Qs, then the Q tendency should just plot (1+1/eps)*P(Q) for Q from 0 to 1.1*Qs. Especially make sure the sign is right."
   ]
  },
  {
   "cell_type": "code",
   "execution_count": 141,
   "metadata": {
    "ExecuteTime": {
     "end_time": "2018-05-01T12:40:27.884000-06:00",
     "start_time": "2018-05-01T18:40:26.818Z"
    }
   },
   "outputs": [
    {
     "data": {
      "text/plain": [
       "162×1440 Array{Float64,2}:\n",
       " 1.0e-16     1.0e-16     1.0e-16     …  1.0e-16     1.0e-16     1.0e-16   \n",
       " 0.00792547  0.00792547  0.00792547     0.00792547  0.00792547  0.00792547\n",
       " 0.0158509   0.0158509   0.0158509      0.0158509   0.0158509   0.0158509 \n",
       " 0.0237764   0.0237764   0.0237764      0.0237764   0.0237764   0.0237764 \n",
       " 0.0317019   0.0317019   0.0317019      0.0317019   0.0317019   0.0317019 \n",
       " 0.0396273   0.0396273   0.0396273   …  0.0396273   0.0396273   0.0396273 \n",
       " 0.0475528   0.0475528   0.0475528      0.0475528   0.0475528   0.0475528 \n",
       " 0.0554783   0.0554783   0.0554783      0.0554783   0.0554783   0.0554783 \n",
       " 0.0634037   0.0634037   0.0634037      0.0634037   0.0634037   0.0634037 \n",
       " 0.0713292   0.0713292   0.0713292      0.0713292   0.0713292   0.0713292 \n",
       " 0.0792547   0.0792547   0.0792547   …  0.0792547   0.0792547   0.0792547 \n",
       " 0.0871801   0.0871801   0.0871801      0.0871801   0.0871801   0.0871801 \n",
       " 0.0951056   0.0951056   0.0951056      0.0951056   0.0951056   0.0951056 \n",
       " ⋮                                   ⋱                                    \n",
       " 1.18882     1.18882     1.18882     …  1.18882     1.18882     1.18882   \n",
       " 1.19675     1.19675     1.19675        1.19675     1.19675     1.19675   \n",
       " 1.20467     1.20467     1.20467        1.20467     1.20467     1.20467   \n",
       " 1.2126      1.2126      1.2126         1.2126      1.2126      1.2126    \n",
       " 1.22052     1.22052     1.22052        1.22052     1.22052     1.22052   \n",
       " 1.22845     1.22845     1.22845     …  1.22845     1.22845     1.22845   \n",
       " 1.23637     1.23637     1.23637        1.23637     1.23637     1.23637   \n",
       " 1.2443      1.2443      1.2443         1.2443      1.2443      1.2443    \n",
       " 1.25222     1.25222     1.25222        1.25222     1.25222     1.25222   \n",
       " 1.26015     1.26015     1.26015        1.26015     1.26015     1.26015   \n",
       " 1.26807     1.26807     1.26807     …  1.26807     1.26807     1.26807   \n",
       " 1.276       1.276       1.276          1.276       1.276       1.276     "
      ]
     },
     "execution_count": 141,
     "metadata": {},
     "output_type": "execute_result"
    }
   ],
   "source": [
    "state = MJO_State((180*params.LL)/(.25*pi*params.RE),                        # delt_x\n",
    "          (180*params.LL)/(.25*pi*params.RE),                                # delt_y\n",
    "          linspace(0., 360.-.25, grid_x),                                    # lon\n",
    "          linspace(-20.125, 20.125, grid_y+2),                               # lat\n",
    "          pi/180*params.RE * linspace(-20.125, 20.125, grid_y+2)/params.LL,  # y\n",
    "          zeros(grid_y+2, grid_x),                                           # m1\n",
    "          zeros(grid_y+2, grid_x),                                           # n1\n",
    "          zeros(grid_y+2, grid_x),                                           # m2\n",
    "          zeros(grid_y+2, grid_x),                                           # n2\n",
    "          ones(grid_y+2, grid_x),                                            # h1\n",
    "          ones(grid_y+2, grid_x),                                            # h2\n",
    "          repmat(linspace(10.^(-16.),1.1*params.Qs,grid_y+2), 1, grid_x)              # q\n",
    "    );                                          \n",
    "out = deepcopy(state)\n",
    "\n",
    "dxdt(params, state, out);\n",
    "state.q"
   ]
  },
  {
   "cell_type": "code",
   "execution_count": 127,
   "metadata": {
    "ExecuteTime": {
     "end_time": "2018-05-01T12:28:40.544000-06:00",
     "start_time": "2018-05-01T18:26:21.283Z"
    },
    "collapsed": true
   },
   "outputs": [
    {
     "name": "stderr",
     "output_type": "stream",
     "text": [
      "\u001b[1m\u001b[36mINFO: \u001b[39m\u001b[22m\u001b[36mPrecompiling module PyPlot.\n",
      "\u001b[39m\u001b[1m\u001b[36mINFO: \u001b[39m\u001b[22m\u001b[36mInstalling matplotlib via the Conda matplotlib package...\n",
      "\u001b[39m"
     ]
    },
    {
     "name": "stdout",
     "output_type": "stream",
     "text": [
      "Solving environment: ...working... done\n"
     ]
    },
    {
     "name": "stderr",
     "output_type": "stream",
     "text": [
      "backports.functools_lru_cache 1.5########## | 100% \n",
      "matplotlib 2.2.2########## | 100% \n",
      "pyparsing 2.2.0########## | 100% \n",
      "pytz 2018.4########## | 100% \n",
      "cycler 0.10.0########## | 100% \n",
      "subprocess32 3.2.7########## | 100% \n",
      "kiwisolver 1.0.1########## | 100% \n",
      "freetype 2.8#########8 |  98% "
     ]
    },
    {
     "name": "stdout",
     "output_type": "stream",
     "text": [
      "\n",
      "## Package Plan ##\n",
      "\n",
      "  environment location: /Users/luciaminahyang/.julia/v0.6/Conda/deps/usr\n",
      "\n",
      "  added / updated specs: \n",
      "    - matplotlib\n",
      "\n",
      "\n",
      "The following packages will be downloaded:\n",
      "\n",
      "    package                    |            build\n",
      "    ---------------------------|-----------------\n",
      "    backports.functools_lru_cache-1.5|           py27_1           9 KB\n",
      "    matplotlib-2.2.2           |   py27ha7267d0_0         6.5 MB\n",
      "    pyparsing-2.2.0            |   py27h5bb6aaf_0          94 KB\n",
      "    pytz-2018.4                |           py27_0         211 KB\n",
      "    cycler-0.10.0              |   py27hfc73c78_0          13 KB\n",
      "    subprocess32-3.2.7         |   py27h24b2887_0          38 KB\n",
      "    kiwisolver-1.0.1           |   py27h9856860_0          57 KB\n",
      "    freetype-2.8               |       h12048fb_1         840 KB\n",
      "    ------------------------------------------------------------\n",
      "                                           Total:         7.7 MB\n",
      "\n",
      "The following NEW packages will be INSTALLED:\n",
      "\n",
      "    backports.functools_lru_cache: 1.5-py27_1           \n",
      "    cycler:                        0.10.0-py27hfc73c78_0\n",
      "    freetype:                      2.8-h12048fb_1       \n",
      "    kiwisolver:                    1.0.1-py27h9856860_0 \n",
      "    matplotlib:                    2.2.2-py27ha7267d0_0 \n",
      "    pyparsing:                     2.2.0-py27h5bb6aaf_0 \n",
      "    pytz:                          2018.4-py27_0        \n",
      "    subprocess32:                  3.2.7-py27h24b2887_0 \n",
      "\n",
      "\n",
      "Downloading and Extracting Packages\n",
      "Preparing transaction: ...working... "
     ]
    },
    {
     "name": "stderr",
     "output_type": "stream",
     "text": [
      "\r",
      "freetype 2.8########## | 100% \n"
     ]
    },
    {
     "name": "stdout",
     "output_type": "stream",
     "text": [
      "done\n",
      "Verifying transaction: ...working... done\n",
      "Executing transaction: ...working... done\n"
     ]
    },
    {
     "ename": "LoadError",
     "evalue": "InitError: \u001b[91mPyError (ccall(@pysym(:PyImport_ImportModule), PyPtr, (Cstring,), name)\n\nThe Python package mpl_toolkits.mplot3d could not be found by pyimport. Usually this means\nthat you did not install mpl_toolkits.mplot3d in the Python version being used by PyCall.\n\nPyCall is currently configured to use the Julia-specific Python distribution\ninstalled by the Conda.jl package.  To install the mpl_toolkits.mplot3d module, you can\nuse `pyimport_conda(\"mpl_toolkits.mplot3d\", PKG)`, where PKG is the Anaconda\npackage the contains the module mpl_toolkits.mplot3d, or alternatively you can use the\nConda package directly (via `using Conda` followed by `Conda.add` etcetera).\n\nAlternatively, if you want to use a different Python distribution on your\nsystem, such as a system-wide Python (as opposed to the Julia-specific Python),\nyou can re-configure PyCall with that Python.   As explained in the PyCall\ndocumentation, set ENV[\"PYTHON\"] to the path/name of the python executable\nyou want to use, run Pkg.build(\"PyCall\"), and re-launch Julia.\n\n) <type 'exceptions.ImportError'>\nImportError('No module named mpl_toolkits.mplot3d',)\n\u001b[39m\nduring initialization of module PyPlot",
     "output_type": "error",
     "traceback": [
      "InitError: \u001b[91mPyError (ccall(@pysym(:PyImport_ImportModule), PyPtr, (Cstring,), name)\n\nThe Python package mpl_toolkits.mplot3d could not be found by pyimport. Usually this means\nthat you did not install mpl_toolkits.mplot3d in the Python version being used by PyCall.\n\nPyCall is currently configured to use the Julia-specific Python distribution\ninstalled by the Conda.jl package.  To install the mpl_toolkits.mplot3d module, you can\nuse `pyimport_conda(\"mpl_toolkits.mplot3d\", PKG)`, where PKG is the Anaconda\npackage the contains the module mpl_toolkits.mplot3d, or alternatively you can use the\nConda package directly (via `using Conda` followed by `Conda.add` etcetera).\n\nAlternatively, if you want to use a different Python distribution on your\nsystem, such as a system-wide Python (as opposed to the Julia-specific Python),\nyou can re-configure PyCall with that Python.   As explained in the PyCall\ndocumentation, set ENV[\"PYTHON\"] to the path/name of the python executable\nyou want to use, run Pkg.build(\"PyCall\"), and re-launch Julia.\n\n) <type 'exceptions.ImportError'>\nImportError('No module named mpl_toolkits.mplot3d',)\n\u001b[39m\nduring initialization of module PyPlot",
      "",
      "Stacktrace:",
      " [1] \u001b[1mpyerr_check\u001b[22m\u001b[22m at \u001b[1m/Users/luciaminahyang/.julia/v0.6/PyCall/src/exception.jl:56\u001b[22m\u001b[22m [inlined]",
      " [2] \u001b[1mpyerr_check\u001b[22m\u001b[22m at \u001b[1m/Users/luciaminahyang/.julia/v0.6/PyCall/src/exception.jl:61\u001b[22m\u001b[22m [inlined]",
      " [3] \u001b[1mmacro expansion\u001b[22m\u001b[22m at \u001b[1m/Users/luciaminahyang/.julia/v0.6/PyCall/src/exception.jl:81\u001b[22m\u001b[22m [inlined]",
      " [4] \u001b[1mpyimport\u001b[22m\u001b[22m\u001b[1m(\u001b[22m\u001b[22m::String\u001b[1m)\u001b[22m\u001b[22m at \u001b[1m/Users/luciaminahyang/.julia/v0.6/PyCall/src/PyCall.jl:374\u001b[22m\u001b[22m",
      " [5] \u001b[1m__init__\u001b[22m\u001b[22m\u001b[1m(\u001b[22m\u001b[22m\u001b[1m)\u001b[22m\u001b[22m at \u001b[1m/Users/luciaminahyang/.julia/v0.6/PyPlot/src/init.jl:205\u001b[22m\u001b[22m",
      " [6] \u001b[1m_include_from_serialized\u001b[22m\u001b[22m\u001b[1m(\u001b[22m\u001b[22m::String\u001b[1m)\u001b[22m\u001b[22m at \u001b[1m./loading.jl:157\u001b[22m\u001b[22m",
      " [7] \u001b[1m_require_from_serialized\u001b[22m\u001b[22m\u001b[1m(\u001b[22m\u001b[22m::Int64, ::Symbol, ::String, ::Bool\u001b[1m)\u001b[22m\u001b[22m at \u001b[1m./loading.jl:200\u001b[22m\u001b[22m",
      " [8] \u001b[1m_require\u001b[22m\u001b[22m\u001b[1m(\u001b[22m\u001b[22m::Symbol\u001b[1m)\u001b[22m\u001b[22m at \u001b[1m./loading.jl:498\u001b[22m\u001b[22m",
      " [9] \u001b[1mrequire\u001b[22m\u001b[22m\u001b[1m(\u001b[22m\u001b[22m::Symbol\u001b[1m)\u001b[22m\u001b[22m at \u001b[1m./loading.jl:405\u001b[22m\u001b[22m",
      " [10] \u001b[1minclude_string\u001b[22m\u001b[22m\u001b[1m(\u001b[22m\u001b[22m::String, ::String\u001b[1m)\u001b[22m\u001b[22m at \u001b[1m./loading.jl:522\u001b[22m\u001b[22m"
     ]
    }
   ],
   "source": [
    "#Pkg.add(\"PyPlot\")\n",
    "using PyPlot\n",
    "plot(out.q[80,:])"
   ]
  },
  {
   "cell_type": "code",
   "execution_count": 142,
   "metadata": {
    "ExecuteTime": {
     "end_time": "2018-05-01T12:40:39.013000-06:00",
     "start_time": "2018-05-01T18:40:38.822Z"
    }
   },
   "outputs": [
    {
     "data": {
      "text/plain": [
       "162×1440 Array{Float64,2}:\n",
       "      3.46898       3.46898       3.46898  …       3.46898       3.46898\n",
       "      3.96182       3.96182       3.96182          3.96182       3.96182\n",
       "      4.09106       4.09106       4.09106          4.09106       4.09106\n",
       "      4.22641       4.22641       4.22641          4.22641       4.22641\n",
       "      4.36818       4.36818       4.36818          4.36818       4.36818\n",
       "      4.5167        4.5167        4.5167   …       4.5167        4.5167 \n",
       "      4.67233       4.67233       4.67233          4.67233       4.67233\n",
       "      4.83544       4.83544       4.83544          4.83544       4.83544\n",
       "      5.00643       5.00643       5.00643          5.00643       5.00643\n",
       "      5.18569       5.18569       5.18569          5.18569       5.18569\n",
       "      5.37368       5.37368       5.37368  …       5.37368       5.37368\n",
       "      5.57085       5.57085       5.57085          5.57085       5.57085\n",
       "      5.77769       5.77769       5.77769          5.77769       5.77769\n",
       "      ⋮                                    ⋱                            \n",
       "  -4959.89      -4959.89      -4959.89     …   -4959.89      -4959.89   \n",
       "  -5640.52      -5640.52      -5640.52         -5640.52      -5640.52   \n",
       "  -6394.9       -6394.9       -6394.9          -6394.9       -6394.9    \n",
       "  -7230.28      -7230.28      -7230.28         -7230.28      -7230.28   \n",
       "  -8154.59      -8154.59      -8154.59         -8154.59      -8154.59   \n",
       "  -9176.47      -9176.47      -9176.47     …   -9176.47      -9176.47   \n",
       " -10305.4      -10305.4      -10305.4         -10305.4      -10305.4    \n",
       " -11551.7      -11551.7      -11551.7         -11551.7      -11551.7    \n",
       " -12926.6      -12926.6      -12926.6         -12926.6      -12926.6    \n",
       " -14442.5      -14442.5      -14442.5         -14442.5      -14442.5    \n",
       " -16112.9      -16112.9      -16112.9      …  -16112.9      -16112.9    \n",
       " -17952.4      -17952.4      -17952.4         -17952.4      -17952.4    "
      ]
     },
     "execution_count": 142,
     "metadata": {},
     "output_type": "execute_result"
    }
   ],
   "source": [
    "xx = (-1+params.Qs./(params.DD*state.q)).*((8.*params.LL)/(params.QQ*86400000.*params.UU)*(exp.(params.B*state.q/params.Qs)-1.))"
   ]
  },
  {
   "cell_type": "code",
   "execution_count": 145,
   "metadata": {
    "ExecuteTime": {
     "end_time": "2018-05-01T12:41:31.891000-06:00",
     "start_time": "2018-05-01T18:41:31.771Z"
    }
   },
   "outputs": [
    {
     "data": {
      "text/plain": [
       "162×1440 Array{Float64,2}:\n",
       "      1.0e-16       1.0e-16       1.0e-16  …       1.0e-16       1.0e-16\n",
       "      3.96182       3.96182       3.96182          3.96182       3.96182\n",
       "      4.09106       4.09106       4.09106          4.09106       4.09106\n",
       "      4.22641       4.22641       4.22641          4.22641       4.22641\n",
       "      4.36818       4.36818       4.36818          4.36818       4.36818\n",
       "      4.5167        4.5167        4.5167   …       4.5167        4.5167 \n",
       "      4.67233       4.67233       4.67233          4.67233       4.67233\n",
       "      4.83544       4.83544       4.83544          4.83544       4.83544\n",
       "      5.00643       5.00643       5.00643          5.00643       5.00643\n",
       "      5.18569       5.18569       5.18569          5.18569       5.18569\n",
       "      5.37368       5.37368       5.37368  …       5.37368       5.37368\n",
       "      5.57085       5.57085       5.57085          5.57085       5.57085\n",
       "      5.77769       5.77769       5.77769          5.77769       5.77769\n",
       "      ⋮                                    ⋱                            \n",
       "  -4959.89      -4959.89      -4959.89     …   -4959.89      -4959.89   \n",
       "  -5640.52      -5640.52      -5640.52         -5640.52      -5640.52   \n",
       "  -6394.9       -6394.9       -6394.9          -6394.9       -6394.9    \n",
       "  -7230.28      -7230.28      -7230.28         -7230.28      -7230.28   \n",
       "  -8154.59      -8154.59      -8154.59         -8154.59      -8154.59   \n",
       "  -9176.47      -9176.47      -9176.47     …   -9176.47      -9176.47   \n",
       " -10305.4      -10305.4      -10305.4         -10305.4      -10305.4    \n",
       " -11551.7      -11551.7      -11551.7         -11551.7      -11551.7    \n",
       " -12926.6      -12926.6      -12926.6         -12926.6      -12926.6    \n",
       " -14442.5      -14442.5      -14442.5         -14442.5      -14442.5    \n",
       " -16112.9      -16112.9      -16112.9      …  -16112.9      -16112.9    \n",
       "      1.276         1.276         1.276            1.276         1.276  "
      ]
     },
     "execution_count": 145,
     "metadata": {},
     "output_type": "execute_result"
    }
   ],
   "source": [
    "out.q"
   ]
  },
  {
   "cell_type": "code",
   "execution_count": 140,
   "metadata": {
    "ExecuteTime": {
     "end_time": "2018-05-01T12:40:08.178000-06:00",
     "start_time": "2018-05-01T18:40:08.028Z"
    }
   },
   "outputs": [
    {
     "data": {
      "text/plain": [
       "162×1440 Array{Float64,2}:\n",
       " 1.0e-16     1.0e-16     1.0e-16     …  1.0e-16     1.0e-16     1.0e-16   \n",
       " 0.00792547  0.00792547  0.00792547     0.00792547  0.00792547  0.00792547\n",
       " 0.0158509   0.0158509   0.0158509      0.0158509   0.0158509   0.0158509 \n",
       " 0.0237764   0.0237764   0.0237764      0.0237764   0.0237764   0.0237764 \n",
       " 0.0317019   0.0317019   0.0317019      0.0317019   0.0317019   0.0317019 \n",
       " 0.0396273   0.0396273   0.0396273   …  0.0396273   0.0396273   0.0396273 \n",
       " 0.0475528   0.0475528   0.0475528      0.0475528   0.0475528   0.0475528 \n",
       " 0.0554783   0.0554783   0.0554783      0.0554783   0.0554783   0.0554783 \n",
       " 0.0634037   0.0634037   0.0634037      0.0634037   0.0634037   0.0634037 \n",
       " 0.0713292   0.0713292   0.0713292      0.0713292   0.0713292   0.0713292 \n",
       " 0.0792547   0.0792547   0.0792547   …  0.0792547   0.0792547   0.0792547 \n",
       " 0.0871801   0.0871801   0.0871801      0.0871801   0.0871801   0.0871801 \n",
       " 0.0951056   0.0951056   0.0951056      0.0951056   0.0951056   0.0951056 \n",
       " ⋮                                   ⋱                                    \n",
       " 1.18882     1.18882     1.18882     …  1.18882     1.18882     1.18882   \n",
       " 1.19675     1.19675     1.19675        1.19675     1.19675     1.19675   \n",
       " 1.20467     1.20467     1.20467        1.20467     1.20467     1.20467   \n",
       " 1.2126      1.2126      1.2126         1.2126      1.2126      1.2126    \n",
       " 1.22052     1.22052     1.22052        1.22052     1.22052     1.22052   \n",
       " 1.22845     1.22845     1.22845     …  1.22845     1.22845     1.22845   \n",
       " 1.23637     1.23637     1.23637        1.23637     1.23637     1.23637   \n",
       " 1.2443      1.2443      1.2443         1.2443      1.2443      1.2443    \n",
       " 1.25222     1.25222     1.25222        1.25222     1.25222     1.25222   \n",
       " 1.26015     1.26015     1.26015        1.26015     1.26015     1.26015   \n",
       " 1.26807     1.26807     1.26807     …  1.26807     1.26807     1.26807   \n",
       " 1.276       1.276       1.276          1.276       1.276       1.276     "
      ]
     },
     "execution_count": 140,
     "metadata": {},
     "output_type": "execute_result"
    }
   ],
   "source": [
    "repmat(linspace(10.^(-16.),1.1*params.Qs,grid_y+2), 1, grid_x)"
   ]
  },
  {
   "cell_type": "markdown",
   "metadata": {},
   "source": [
    "2) If heights are constant, Q=0, m is linear in y and n is linear in x then tendencies for h1, h2, and Q should be 0. Also the only tendency for momentum should be the Coriolis force (which wasn't working this afternoon)."
   ]
  },
  {
   "cell_type": "code",
   "execution_count": 155,
   "metadata": {
    "ExecuteTime": {
     "end_time": "2018-05-01T12:46:02.305000-06:00",
     "start_time": "2018-05-01T18:46:00.770Z"
    }
   },
   "outputs": [],
   "source": [
    "state = MJO_State((180*params.LL)/(.25*pi*params.RE),                        # delt_x\n",
    "          (180*params.LL)/(.25*pi*params.RE),                                # delt_y\n",
    "          linspace(0., 360.-.25, grid_x),                                    # lon\n",
    "          linspace(-20.125, 20.125, grid_y+2),                               # lat\n",
    "          pi/180*params.RE * linspace(-20.125, 20.125, grid_y+2)/params.LL,  # y\n",
    "          repmat(linspace(1,2, grid_y+2), 1, grid_x),                        # m1\n",
    "          repmat(linspace(3,4, grid_x)', grid_y+2,1),                        # n1\n",
    "          repmat(linspace(1,2,grid_y+2), 1, grid_x),                         # m2\n",
    "          repmat(linspace(3,4, grid_x)',grid_y+2, 1),                         # n2\n",
    "          ones(grid_y+2, grid_x),                                            # h1\n",
    "          ones(grid_y+2, grid_x),                                            # h2\n",
    "          10.^(-16.)*ones(grid_y+2, grid_x)                                  # q\n",
    "    );                                          \n",
    "out = deepcopy(state)\n",
    "\n",
    "dxdt(params, state, out);"
   ]
  },
  {
   "cell_type": "code",
   "execution_count": 163,
   "metadata": {
    "ExecuteTime": {
     "end_time": "2018-05-01T12:47:23.229000-06:00",
     "start_time": "2018-05-01T18:47:23.136Z"
    }
   },
   "outputs": [
    {
     "data": {
      "text/plain": [
       "-Inf"
      ]
     },
     "execution_count": 163,
     "metadata": {},
     "output_type": "execute_result"
    }
   ],
   "source": [
    "log.(maximum(abs.(out.h1[2:end-1,:])))"
   ]
  },
  {
   "cell_type": "markdown",
   "metadata": {},
   "source": [
    "3) Let the heights be constant and Q=0. If the x-momentum (in one layer) is sin(2*pi*x/LX) then the time-tendencies for h should be proportional to cos(2*pi*x/LX). "
   ]
  },
  {
   "cell_type": "code",
   "execution_count": 169,
   "metadata": {
    "ExecuteTime": {
     "end_time": "2018-05-01T12:53:56.345000-06:00",
     "start_time": "2018-05-01T18:53:56.322Z"
    }
   },
   "outputs": [
    {
     "data": {
      "text/plain": [
       "162×1440 Array{Float64,2}:\n",
       " 0.0  0.0277952  0.0555688  0.0832996  …  0.779538  0.761827  0.743527\n",
       " 0.0  0.0277952  0.0555688  0.0832996     0.779538  0.761827  0.743527\n",
       " 0.0  0.0277952  0.0555688  0.0832996     0.779538  0.761827  0.743527\n",
       " 0.0  0.0277952  0.0555688  0.0832996     0.779538  0.761827  0.743527\n",
       " 0.0  0.0277952  0.0555688  0.0832996     0.779538  0.761827  0.743527\n",
       " 0.0  0.0277952  0.0555688  0.0832996  …  0.779538  0.761827  0.743527\n",
       " 0.0  0.0277952  0.0555688  0.0832996     0.779538  0.761827  0.743527\n",
       " 0.0  0.0277952  0.0555688  0.0832996     0.779538  0.761827  0.743527\n",
       " 0.0  0.0277952  0.0555688  0.0832996     0.779538  0.761827  0.743527\n",
       " 0.0  0.0277952  0.0555688  0.0832996     0.779538  0.761827  0.743527\n",
       " 0.0  0.0277952  0.0555688  0.0832996  …  0.779538  0.761827  0.743527\n",
       " 0.0  0.0277952  0.0555688  0.0832996     0.779538  0.761827  0.743527\n",
       " 0.0  0.0277952  0.0555688  0.0832996     0.779538  0.761827  0.743527\n",
       " ⋮                                     ⋱                              \n",
       " 0.0  0.0277952  0.0555688  0.0832996  …  0.779538  0.761827  0.743527\n",
       " 0.0  0.0277952  0.0555688  0.0832996     0.779538  0.761827  0.743527\n",
       " 0.0  0.0277952  0.0555688  0.0832996     0.779538  0.761827  0.743527\n",
       " 0.0  0.0277952  0.0555688  0.0832996     0.779538  0.761827  0.743527\n",
       " 0.0  0.0277952  0.0555688  0.0832996     0.779538  0.761827  0.743527\n",
       " 0.0  0.0277952  0.0555688  0.0832996  …  0.779538  0.761827  0.743527\n",
       " 0.0  0.0277952  0.0555688  0.0832996     0.779538  0.761827  0.743527\n",
       " 0.0  0.0277952  0.0555688  0.0832996     0.779538  0.761827  0.743527\n",
       " 0.0  0.0277952  0.0555688  0.0832996     0.779538  0.761827  0.743527\n",
       " 0.0  0.0277952  0.0555688  0.0832996     0.779538  0.761827  0.743527\n",
       " 0.0  0.0277952  0.0555688  0.0832996  …  0.779538  0.761827  0.743527\n",
       " 0.0  0.0277952  0.0555688  0.0832996     0.779538  0.761827  0.743527"
      ]
     },
     "execution_count": 169,
     "metadata": {},
     "output_type": "execute_result"
    }
   ],
   "source": [
    "x = pi/180*params.RE * linspace(0, 360.-.25, grid_x)/params.LL\n",
    "x[end]-2*pi*params.RE/params.LL\n",
    "repmat(sin.(x)', grid_y+2,1)"
   ]
  },
  {
   "cell_type": "code",
   "execution_count": 170,
   "metadata": {
    "ExecuteTime": {
     "end_time": "2018-05-01T12:55:12.048000-06:00",
     "start_time": "2018-05-01T18:55:11.510Z"
    }
   },
   "outputs": [],
   "source": [
    "state = MJO_State((180*params.LL)/(.25*pi*params.RE),                        # delt_x\n",
    "          (180*params.LL)/(.25*pi*params.RE),                                # delt_y\n",
    "          linspace(0., 360.-.25, grid_x),                                    # lon\n",
    "          linspace(-20.125, 20.125, grid_y+2),                               # lat\n",
    "          pi/180*params.RE * linspace(-20.125, 20.125, grid_y+2)/params.LL,  # y\n",
    "          repmat(sin.(x/(params.RE/params.LL))', grid_y+2,1),                                       # m1\n",
    "          zeros(grid_y+2, grid_x),                                            # n1\n",
    "          zeros(grid_y+2, grid_x),                                            # m2\n",
    "          zeros(grid_y+2, grid_x),                                           # n2\n",
    "          ones(grid_y+2, grid_x),                                            # h1\n",
    "          ones(grid_y+2, grid_x),                                            # h2\n",
    "          zeros(grid_y+2, grid_x)                                            # q\n",
    "    );                                          \n",
    "out = deepcopy(state)\n",
    "\n",
    "dxdt(params, state, out);"
   ]
  },
  {
   "cell_type": "code",
   "execution_count": 178,
   "metadata": {
    "ExecuteTime": {
     "end_time": "2018-05-01T12:57:58.057000-06:00",
     "start_time": "2018-05-01T18:57:58.051Z"
    }
   },
   "outputs": [
    {
     "data": {
      "text/plain": [
       "1440-element Array{Float64,1}:\n",
       " -0.156961\n",
       " -0.156959\n",
       " -0.156955\n",
       " -0.156947\n",
       " -0.156937\n",
       " -0.156923\n",
       " -0.156907\n",
       " -0.156888\n",
       " -0.156865\n",
       " -0.15684 \n",
       " -0.156811\n",
       " -0.15678 \n",
       " -0.156746\n",
       "  ⋮       \n",
       " -0.156746\n",
       " -0.15678 \n",
       " -0.156811\n",
       " -0.15684 \n",
       " -0.156865\n",
       " -0.156888\n",
       " -0.156907\n",
       " -0.156923\n",
       " -0.156937\n",
       " -0.156947\n",
       " -0.156955\n",
       " -0.156959"
      ]
     },
     "execution_count": 178,
     "metadata": {},
     "output_type": "execute_result"
    }
   ],
   "source": [
    "params.LL/params.RE\n",
    "out.h1[2,:]"
   ]
  },
  {
   "cell_type": "markdown",
   "metadata": {},
   "source": [
    "4) Let the heights be constant and Q=0. Let m=0 in both layers and set n = sin(pi*y/(2*LY)). Then the time-tendency for h and Q should be proportional to cos(pi*y/(2*LY)). "
   ]
  },
  {
   "cell_type": "code",
   "execution_count": 85,
   "metadata": {
    "ExecuteTime": {
     "end_time": "2018-05-01T10:49:43.292000-06:00",
     "start_time": "2018-05-01T16:49:43.064Z"
    },
    "collapsed": true
   },
   "outputs": [
    {
     "data": {
      "text/plain": [
       "162-element Array{Float64,1}:\n",
       " -1.40605e-5\n",
       " -1.38858e-5\n",
       " -1.37112e-5\n",
       " -1.35365e-5\n",
       " -1.33618e-5\n",
       " -1.31872e-5\n",
       " -1.30125e-5\n",
       " -1.28378e-5\n",
       " -1.26632e-5\n",
       " -1.24885e-5\n",
       " -1.23139e-5\n",
       " -1.21392e-5\n",
       " -1.19645e-5\n",
       "  ⋮         \n",
       "  1.21392e-5\n",
       "  1.23139e-5\n",
       "  1.24885e-5\n",
       "  1.26632e-5\n",
       "  1.28378e-5\n",
       "  1.30125e-5\n",
       "  1.31872e-5\n",
       "  1.33618e-5\n",
       "  1.35365e-5\n",
       "  1.37112e-5\n",
       "  1.38858e-5\n",
       "  1.40605e-5"
      ]
     },
     "execution_count": 85,
     "metadata": {},
     "output_type": "execute_result"
    }
   ],
   "source": [
    "state.y\n",
    "sin.(2*pi*state.y/params.LL)"
   ]
  },
  {
   "cell_type": "code",
   "execution_count": 191,
   "metadata": {
    "ExecuteTime": {
     "end_time": "2018-05-01T13:09:11.058000-06:00",
     "start_time": "2018-05-01T19:09:10.482Z"
    }
   },
   "outputs": [],
   "source": [
    "state = MJO_State((180*params.LL)/(.25*pi*params.RE),                        # delt_x\n",
    "          (180*params.LL)/(.25*pi*params.RE),                                # delt_y\n",
    "          linspace(0., 360.-.25, grid_x),                                    # lon\n",
    "          linspace(-20.125, 20.125, grid_y+2),                               # lat\n",
    "          pi/180*params.RE * linspace(-20.125, 20.125, grid_y+2)/params.LL,  # y\n",
    "          zeros(grid_y+2, grid_x), # m1\n",
    "          repmat(sin.(pi*linspace(-1./320.,1.+1./320.,162)).^2, 1,grid_x),                                            # n1\n",
    "          zeros(grid_y+2, grid_x),                                            # m2\n",
    "          zeros(grid_y+2, grid_x),                                           # n2\n",
    "          ones(grid_y+2, grid_x),                                            # h1\n",
    "          ones(grid_y+2, grid_x),                                            # h2\n",
    "          zeros(grid_y+2, grid_x)                                            # q\n",
    "    );                                          \n",
    "out = deepcopy(state)\n",
    "\n",
    "dxdt(params, state, out);"
   ]
  },
  {
   "cell_type": "code",
   "execution_count": 192,
   "metadata": {
    "ExecuteTime": {
     "end_time": "2018-05-01T13:09:11.964000-06:00",
     "start_time": "2018-05-01T19:09:11.957Z"
    }
   },
   "outputs": [
    {
     "data": {
      "text/plain": [
       "162-element Array{Float64,1}:\n",
       "  1.0      \n",
       " -0.0138642\n",
       " -0.0415713\n",
       " -0.0692142\n",
       " -0.0967504\n",
       " -0.124137 \n",
       " -0.151333 \n",
       " -0.178295 \n",
       " -0.204983 \n",
       " -0.231354 \n",
       " -0.257369 \n",
       " -0.282986 \n",
       " -0.308168 \n",
       "  ⋮        \n",
       "  0.282986 \n",
       "  0.257369 \n",
       "  0.231354 \n",
       "  0.204983 \n",
       "  0.178295 \n",
       "  0.151333 \n",
       "  0.124137 \n",
       "  0.0967504\n",
       "  0.0692142\n",
       "  0.0415713\n",
       "  0.0138642\n",
       "  1.0      "
      ]
     },
     "execution_count": 192,
     "metadata": {},
     "output_type": "execute_result"
    }
   ],
   "source": [
    "out.h1[:,80]"
   ]
  },
  {
   "cell_type": "code",
   "execution_count": 195,
   "metadata": {
    "ExecuteTime": {
     "end_time": "2018-05-01T13:09:47.943000-06:00",
     "start_time": "2018-05-01T19:09:47.314Z"
    }
   },
   "outputs": [
    {
     "data": {
      "image/png": "[encoded data removed]",
      "text/plain": [
       "PyPlot.Figure(PyObject <Figure size 640x480 with 1 Axes>)"
      ]
     },
     "metadata": {},
     "output_type": "display_data"
    },
    {
     "data": {
      "text/plain": [
       "1-element Array{PyCall.PyObject,1}:\n",
       " PyObject <matplotlib.lines.Line2D object at 0x13dc76450>"
      ]
     },
     "execution_count": 195,
     "metadata": {},
     "output_type": "execute_result"
    }
   ],
   "source": [
    "using PyPlot\n",
    "set_ghost_cells(state,80)\n",
    "dxdt(params,state,out)\n",
    "plot(state.y[2:end-1],out.h1[2:end-1,80])"
   ]
  },
  {
   "cell_type": "code",
   "execution_count": 197,
   "metadata": {
    "ExecuteTime": {
     "end_time": "2018-05-01T13:10:44.095000-06:00",
     "start_time": "2018-05-01T19:10:44.046Z"
    }
   },
   "outputs": [
    {
     "data": {
      "text/plain": [
       "0.7060078951512069"
      ]
     },
     "execution_count": 197,
     "metadata": {},
     "output_type": "execute_result"
    }
   ],
   "source": [
    "maximum(abs.(out.h1[2:end-1,80]))"
   ]
  },
  {
   "cell_type": "code",
   "execution_count": 198,
   "metadata": {
    "ExecuteTime": {
     "end_time": "2018-05-01T13:11:38.076000-06:00",
     "start_time": "2018-05-01T19:11:38.065Z"
    }
   },
   "outputs": [
    {
     "data": {
      "text/plain": [
       "0.7028171484540925"
      ]
     },
     "execution_count": 198,
     "metadata": {},
     "output_type": "execute_result"
    }
   ],
   "source": [
    "pi/(4.47)"
   ]
  },
  {
   "cell_type": "markdown",
   "metadata": {},
   "source": [
    "To finish testing the divergences: \n",
    "set h to be variable along x and y (sinusoidal)\n",
    "\n",
    "Test gradients:\n",
    "h linear in x or y, (everythig else 0),  m or n should be constant\n",
    "\n",
    "Test radiative cooling:\n",
    "Test coriolis:"
   ]
  }
 ],
 "metadata": {
  "kernelspec": {
   "display_name": "Julia 0.6.2",
   "language": "julia",
   "name": "julia-0.6"
  },
  "language_info": {
   "file_extension": ".jl",
   "mimetype": "application/julia",
   "name": "julia",
   "version": "0.6.2"
  }
 },
 "nbformat": 4,
 "nbformat_minor": 2
}
